{
  "nbformat": 4,
  "nbformat_minor": 0,
  "metadata": {
    "colab": {
      "provenance": [],
      "authorship_tag": "ABX9TyPMkjZ2MXhJuHqZBWC3QAKA",
      "include_colab_link": true
    },
    "kernelspec": {
      "name": "python3",
      "display_name": "Python 3"
    },
    "language_info": {
      "name": "python"
    }
  },
  "cells": [
    {
      "cell_type": "markdown",
      "metadata": {
        "id": "view-in-github",
        "colab_type": "text"
      },
      "source": [
        "<a href=\"https://colab.research.google.com/github/EminImura/OOP-58001/blob/main/OOP_Concepts_Part_2.ipynb\" target=\"_parent\"><img src=\"https://colab.research.google.com/assets/colab-badge.svg\" alt=\"Open In Colab\"/></a>"
      ]
    },
    {
      "cell_type": "markdown",
      "source": [
        "OOP Concepts Part 2"
      ],
      "metadata": {
        "id": "d6P3NbQiWw1i"
      }
    },
    {
      "cell_type": "code",
      "execution_count": 11,
      "metadata": {
        "colab": {
          "base_uri": "https://localhost:8080/"
        },
        "id": "-euypxMaVk-s",
        "outputId": "e14230b8-f26f-4f80-f688-bb3ee607a45a"
      },
      "outputs": [
        {
          "output_type": "stream",
          "name": "stdout",
          "text": [
            "Griffon Vulture flies above clouds\n",
            "Common Crane flies above clouds\n",
            "Emu is the national bird of Philippines\n"
          ]
        }
      ],
      "source": [
        "#class with multiple objects\n",
        "\n",
        "class birds:\n",
        "  def __init__(self, bird_name):\n",
        "    self.bird_name = bird_name\n",
        "\n",
        "  def flying_birds(self):\n",
        "    print(f\"{self.bird_name} flies above clouds\")\n",
        "\n",
        "  def non_flying_birds(self):\n",
        "    print(f\"{self.bird_name} is the national bird of Philippines\")\n",
        "  \n",
        "vulture = birds(\"Griffon Vulture\")\n",
        "crane = birds(\"Common Crane\")\n",
        "emu = birds(\"Emu\")\n",
        "\n",
        "vulture.flying_birds()\n",
        "crane.flying_birds()\n",
        "emu.non_flying_birds()"
      ]
    },
    {
      "cell_type": "code",
      "source": [
        "class foo:\n",
        "  def __init__(self, a ,b):\n",
        "    self.a = a\n",
        "    self.b = b\n",
        "\n",
        "  def add(self):\n",
        "    return self.a + self.b\n",
        "    \n",
        "foo_object = foo(3,4)\n",
        "foo_object.add()"
      ],
      "metadata": {
        "colab": {
          "base_uri": "https://localhost:8080/"
        },
        "id": "NK8aBoABZOpB",
        "outputId": "80d15d4d-aa6d-4d56-9479-930b782976af"
      },
      "execution_count": 13,
      "outputs": [
        {
          "output_type": "execute_result",
          "data": {
            "text/plain": [
              "7"
            ]
          },
          "metadata": {},
          "execution_count": 13
        }
      ]
    },
    {
      "cell_type": "code",
      "source": [
        "#Encapsulation\n",
        "\n",
        "class foo:\n",
        "  def __init__(self, a, b):\n",
        "    self.__a = a\n",
        "    self.__b = b\n",
        "\n",
        "  def add(self):\n",
        "    return self.__a + self.__b\n",
        "    \n",
        "foo_object = foo(3,4)\n",
        "foo_object.add()\n",
        "foo_object.a = 5\n",
        "foo_object.add()"
      ],
      "metadata": {
        "colab": {
          "base_uri": "https://localhost:8080/"
        },
        "id": "gY6U--AjZcfb",
        "outputId": "98999b8f-6ce2-4f23-cdc1-0d5ad3745001"
      },
      "execution_count": 25,
      "outputs": [
        {
          "output_type": "execute_result",
          "data": {
            "text/plain": [
              "7"
            ]
          },
          "metadata": {},
          "execution_count": 25
        }
      ]
    },
    {
      "cell_type": "code",
      "source": [
        "class counter:\n",
        "  def __init__(self):\n",
        "    self.current = 0\n",
        "  \n",
        "  def increment(self):\n",
        "    self.current += 1\n",
        "  \n",
        "  def value(self):\n",
        "    return self.current\n",
        "\n",
        "  def reset(self):\n",
        "    self.current = 0\n",
        "\n",
        "count = counter()\n",
        "count.value()"
      ],
      "metadata": {
        "colab": {
          "base_uri": "https://localhost:8080/"
        },
        "id": "wcsdUD5Rbzf6",
        "outputId": "de033a25-4e5f-49f6-aeb2-1d0feef87b91"
      },
      "execution_count": 38,
      "outputs": [
        {
          "output_type": "execute_result",
          "data": {
            "text/plain": [
              "0"
            ]
          },
          "metadata": {},
          "execution_count": 38
        }
      ]
    },
    {
      "cell_type": "code",
      "source": [
        "#Inheritance\n",
        "\n",
        "class person:\n",
        "  def __init__(self, name, birthdate):\n",
        "    self.name = name\n",
        "    self.birthdate = birthdate\n",
        "  \n",
        "  def display(self):\n",
        "    print(f\"My name is\", self.name)\n",
        "    print(f\"My birthdate is\", self.birthdate)\n",
        "  \n",
        "class student(person):\n",
        "  pass\n",
        "\n",
        "class teacher(student):\n",
        "  pass\n",
        "\n",
        "student_info = student(\"Emin\", \"Feb 24, 2003\")\n",
        "student_info.display()\n",
        "\n",
        "teacher_info = teacher(\"Jim\", \"Oct 11, 2002\")\n",
        "teacher_info.display()"
      ],
      "metadata": {
        "colab": {
          "base_uri": "https://localhost:8080/"
        },
        "id": "OTEKaBuGej6i",
        "outputId": "05a97df5-3e16-424b-ec27-12decccbe777"
      },
      "execution_count": 92,
      "outputs": [
        {
          "output_type": "stream",
          "name": "stdout",
          "text": [
            "My name is Emin\n",
            "My birthdate is Feb 24, 2003\n",
            "My name is Jim\n",
            "My birthdate is Oct 11, 2002\n"
          ]
        }
      ]
    },
    {
      "cell_type": "code",
      "source": [
        "#create a class name shapes (at least 5 shapes) having attributes sides\n",
        "#create a method that displays the no. of sides of each shapes\n",
        "#apply inheritance and encapsulation\n",
        "\n",
        "class shapes:\n",
        "  def __init__(obj, name, side):\n",
        "    obj.__name = name\n",
        "    obj.__side = side\n",
        "  \n",
        "  def display(obj):\n",
        "    print(f\"{obj.__name} has {obj.__side} sides\")\n",
        "\n",
        "class tri(shapes):\n",
        "  polygon = shapes(\"Triangle\", 3)\n",
        "  polygon.sides = 5\n",
        "  polygon.display()\n",
        "  pass\n",
        "\n",
        "class quad(shapes):\n",
        "  polygon = tri(\"Quadrilateral\", 4)\n",
        "  polygon.sides = 6\n",
        "  polygon.display()\n",
        "  pass\n",
        "\n",
        "class penta(shapes):\n",
        "  polygon = quad(\"Pentagon\", 5)\n",
        "  polygon.sides = 7\n",
        "  polygon.display()\n",
        "  pass\n",
        "\n",
        "class hexa(shapes):\n",
        "  polygon = quad(\"Hexagon\", 6)\n",
        "  polygon.sides = 8\n",
        "  polygon.display()\n",
        "  pass\n",
        "\n",
        "class hepta(shapes):\n",
        "  polygon = hexa(\"Heptagon\", 7)\n",
        "  polygon.sides = 9\n",
        "  polygon.display()\n",
        "  pass"
      ],
      "metadata": {
        "colab": {
          "base_uri": "https://localhost:8080/"
        },
        "id": "XrXiOjXHfLna",
        "outputId": "9cbfa48d-c986-42a4-e8c1-4385880a109b"
      },
      "execution_count": 103,
      "outputs": [
        {
          "output_type": "stream",
          "name": "stdout",
          "text": [
            "Triangle has 3 sides\n",
            "Quadrilateral has 4 sides\n",
            "Pentagon has 5 sides\n",
            "Hexagon has 6 sides\n",
            "Heptagon has 7 sides\n"
          ]
        }
      ]
    }
  ]
}