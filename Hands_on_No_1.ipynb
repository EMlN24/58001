{
  "nbformat": 4,
  "nbformat_minor": 0,
  "metadata": {
    "colab": {
      "provenance": [],
      "authorship_tag": "ABX9TyPTvWliyKZUFm3HTJIGO2eP",
      "include_colab_link": true
    },
    "kernelspec": {
      "name": "python3",
      "display_name": "Python 3"
    },
    "language_info": {
      "name": "python"
    }
  },
  "cells": [
    {
      "cell_type": "markdown",
      "metadata": {
        "id": "view-in-github",
        "colab_type": "text"
      },
      "source": [
        "<a href=\"https://colab.research.google.com/github/EminImura/OOP-58001/blob/main/Hands_on_No_1.ipynb\" target=\"_parent\"><img src=\"https://colab.research.google.com/assets/colab-badge.svg\" alt=\"Open In Colab\"/></a>"
      ]
    },
    {
      "cell_type": "code",
      "execution_count": 76,
      "metadata": {
        "colab": {
          "base_uri": "https://localhost:8080/"
        },
        "id": "He3FZ84NaNxH",
        "outputId": "38432e7b-a837-4efb-c070-cdcea934b0fa"
      },
      "outputs": [
        {
          "output_type": "stream",
          "name": "stdout",
          "text": [
            "Prelim Grade: 91\n",
            "Midterm Grade: 92\n",
            "Final Grade: 89\n",
            "Emin D. Imura = 90.66666666666667 \n",
            "\n",
            "Prelim Grade: 83\n",
            "Midterm Grade: 85\n",
            "Final Grade: 84\n",
            "James Dayao = 84.0 \n",
            "\n",
            "Prelim Grade: 100\n",
            "Midterm Grade: 99\n",
            "Final Grade: 100\n",
            "Robert Victor Callorina = 99.66666666666667\n"
          ]
        }
      ],
      "source": [
        "class Person:\n",
        "  def __init__(self,std1, std2, std3, pre, mid ,fin):\n",
        "    self.__std1 = std1\n",
        "    self.__std2 = std2\n",
        "    self.__std3 = std3\n",
        "    self.__pre = pre\n",
        "    self.__mid = mid\n",
        "    self.__fin = fin\n",
        "\n",
        "  def Grade(self):\n",
        "    return (self.__pre + self.__mid + self.__fin) / 3\n",
        "  \n",
        "  def display1(self):\n",
        "    print(self.__std1, self.Grade(), \"\\n\")\n",
        "\n",
        "  def display2(self):\n",
        "    print(self.__std2, self.Grade(), \"\\n\")\n",
        "\n",
        "  def display3(self):\n",
        "    print(self.__std3, self.Grade())\n",
        "\n",
        "\n",
        "class student1(Person):\n",
        "  term_grade = Person(\"Emin D. Imura =\", 0, 0, float(input(\"Prelim Grade: \")), float(input(\"Midterm Grade: \")), float(input(\"Final Grade: \")))\n",
        "  term_grade.display1()\n",
        "\n",
        "class student2(Person):\n",
        "  term_grade = Person(0, \"James Dayao =\", 0, float(input(\"Prelim Grade: \")), float(input(\"Midterm Grade: \")), float(input(\"Final Grade: \")))\n",
        "  term_grade.display2()\n",
        "\n",
        "class student3(Person):\n",
        "  term_grade = Person(0, 0, \"Robert Victor Callorina =\", float(input(\"Prelim Grade: \")), float(input(\"Midterm Grade: \")), float(input(\"Final Grade: \")))\n",
        "  term_grade.display3()"
      ]
    }
  ]
}