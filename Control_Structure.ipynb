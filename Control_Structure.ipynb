{
  "nbformat": 4,
  "nbformat_minor": 0,
  "metadata": {
    "colab": {
      "provenance": [],
      "authorship_tag": "ABX9TyNoMPAgUDurAkvvWNXdvmf9",
      "include_colab_link": true
    },
    "kernelspec": {
      "name": "python3",
      "display_name": "Python 3"
    },
    "language_info": {
      "name": "python"
    }
  },
  "cells": [
    {
      "cell_type": "markdown",
      "metadata": {
        "id": "view-in-github",
        "colab_type": "text"
      },
      "source": [
        "<a href=\"https://colab.research.google.com/github/EminImura/OOP-58001/blob/main/Control_Structure.ipynb\" target=\"_parent\"><img src=\"https://colab.research.google.com/assets/colab-badge.svg\" alt=\"Open In Colab\"/></a>"
      ]
    },
    {
      "cell_type": "markdown",
      "source": [
        "Conditional Statement"
      ],
      "metadata": {
        "id": "GeHD-TxvD9hD"
      }
    },
    {
      "cell_type": "code",
      "execution_count": null,
      "metadata": {
        "colab": {
          "base_uri": "https://localhost:8080/"
        },
        "id": "yN-3RaQtDxPq",
        "outputId": "30daa610-b606-4835-984a-f169c39110a9"
      },
      "outputs": [
        {
          "output_type": "stream",
          "name": "stdout",
          "text": [
            "a and b are equal\n"
          ]
        }
      ],
      "source": [
        "#If statement\n",
        "\n",
        "a = 12\n",
        "b = 12\n",
        "\n",
        "if b > a:\n",
        "  print(\"b is greater than a\")"
      ]
    },
    {
      "cell_type": "code",
      "source": [
        "#else if statement\n",
        "\n",
        "a = 12\n",
        "b = 12\n",
        "\n",
        "if b > a:\n",
        "  print(\"b is greater than a\")\n",
        "\n",
        "elif a==b:\n",
        "  print(\"a and b are equal\")"
      ],
      "metadata": {
        "colab": {
          "base_uri": "https://localhost:8080/"
        },
        "id": "J_So18yNE6vD",
        "outputId": "ef579f9c-2d5d-4f54-fc60-7dd31f0e0e69"
      },
      "execution_count": null,
      "outputs": [
        {
          "output_type": "stream",
          "name": "stdout",
          "text": [
            "a and b are equal\n"
          ]
        }
      ]
    },
    {
      "cell_type": "code",
      "source": [
        "#else statement\n",
        "\n",
        "a = input()\n",
        "b = input()\n",
        "\n",
        "if b > a:\n",
        "  print(b +\" is greater than a \"+ a)\n",
        "else:\n",
        "  print(a +\" is greater than \"+ b)"
      ],
      "metadata": {
        "colab": {
          "base_uri": "https://localhost:8080/"
        },
        "id": "DhwSJSNAFAMC",
        "outputId": "ef20cb9d-2022-4b44-8168-c918c1c4c4bd"
      },
      "execution_count": null,
      "outputs": [
        {
          "output_type": "stream",
          "name": "stdout",
          "text": [
            "3\n",
            "6\n",
            "\n",
            "\n",
            "6 is greater than a 3\n"
          ]
        }
      ]
    },
    {
      "cell_type": "markdown",
      "source": [
        "Nested If"
      ],
      "metadata": {
        "id": "cr__qnQ1Ikbo"
      }
    },
    {
      "cell_type": "code",
      "source": [
        "x = 41\n",
        "\n",
        "if x > 10:\n",
        "  print(\"Above 10, \")\n",
        "\n",
        "  if x > 20:\n",
        "    print(\"and also above 20!\")\n",
        "\n",
        "    if x > 30:\n",
        "      print(\"and also above 30!\")\n",
        "\n",
        "      if x > 40:\n",
        "        print(\"and also above 40!\")\n",
        "\n",
        "        if x > 50:\n",
        "          print(\"and also above 50!\")\n",
        "\n",
        "        else:\n",
        "          print(\"But not above 50.\")\n",
        "\n",
        "      else:\n",
        "        print(\"But not above 40.\")\n",
        "\n",
        "    else:\n",
        "      print(\"But not above 30.\")\n",
        "\n",
        "  else:\n",
        "    print(\"But not above 20.\")\n",
        "\n",
        "else:\n",
        "  print(\"But not above 10.\")"
      ],
      "metadata": {
        "colab": {
          "base_uri": "https://localhost:8080/"
        },
        "id": "uKmgqaCgIlbA",
        "outputId": "93063d6e-c8b9-4a48-f8fb-827c6f2ba3f0"
      },
      "execution_count": null,
      "outputs": [
        {
          "output_type": "stream",
          "name": "stdout",
          "text": [
            "Above 10, \n",
            "and also above 20!\n",
            "and also above 30!\n",
            "and also above 40!\n",
            "But not above 50.\n"
          ]
        }
      ]
    },
    {
      "cell_type": "markdown",
      "source": [
        "Voter's Age"
      ],
      "metadata": {
        "id": "LbeaJ8s1N-ZP"
      }
    },
    {
      "cell_type": "code",
      "source": [
        "age = int(input())\n",
        "\n",
        "if age > 17:\n",
        "  print(\"Qualified\")\n",
        "else:\n",
        "  print(\"Not Qualified\")"
      ],
      "metadata": {
        "colab": {
          "base_uri": "https://localhost:8080/"
        },
        "id": "7zxiqTpHOBQW",
        "outputId": "58d58026-1676-49ef-8b94-f2f3233b57f5"
      },
      "execution_count": null,
      "outputs": [
        {
          "output_type": "stream",
          "name": "stdout",
          "text": [
            "3\n",
            "Not Qualified\n"
          ]
        }
      ]
    },
    {
      "cell_type": "markdown",
      "source": [
        "Positive, Negative, or Zero"
      ],
      "metadata": {
        "id": "hyPwk-nzM4aX"
      }
    },
    {
      "cell_type": "code",
      "source": [
        "num1 = float(input())\n",
        "\n",
        "if num1 > 0:\n",
        "  print(\"Positive\")\n",
        "elif num1 < 0:\n",
        "  print(\"Negative\")\n",
        "else:\n",
        "  print(\"Zero\")\n"
      ],
      "metadata": {
        "colab": {
          "base_uri": "https://localhost:8080/"
        },
        "id": "FSRnzeOZM43f",
        "outputId": "37ea2772-93a0-4711-fef0-5ecf2a610cc3"
      },
      "execution_count": null,
      "outputs": [
        {
          "output_type": "stream",
          "name": "stdout",
          "text": [
            "3\n",
            "Positive\n"
          ]
        }
      ]
    },
    {
      "cell_type": "markdown",
      "source": [
        "Grading System"
      ],
      "metadata": {
        "id": "6a47zwzkMBv3"
      }
    },
    {
      "cell_type": "code",
      "source": [
        "grade = float(input())\n",
        "\n",
        "if grade >= 70 and grade <= 100:\n",
        "  print(\"Passed\")\n",
        "elif grade >= 65 and grade < 70:\n",
        "  print(\"Remedial\")\n",
        "elif grade >= 0:\n",
        "  print(\"Failed\")\n",
        "else:\n",
        "  print(\"Invalid Input\")"
      ],
      "metadata": {
        "colab": {
          "base_uri": "https://localhost:8080/"
        },
        "id": "K1X3CDfhMCA3",
        "outputId": "d56cd09c-fac9-4632-d08d-82c9385bbede"
      },
      "execution_count": 12,
      "outputs": [
        {
          "output_type": "stream",
          "name": "stdout",
          "text": [
            "64.99\n",
            "Failed\n"
          ]
        }
      ]
    }
  ]
}