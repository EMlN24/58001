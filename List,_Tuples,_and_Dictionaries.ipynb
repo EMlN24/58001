{
  "nbformat": 4,
  "nbformat_minor": 0,
  "metadata": {
    "colab": {
      "provenance": [],
      "authorship_tag": "ABX9TyNu7U4Y7mnIu0pvjmLYnWEC",
      "include_colab_link": true
    },
    "kernelspec": {
      "name": "python3",
      "display_name": "Python 3"
    },
    "language_info": {
      "name": "python"
    }
  },
  "cells": [
    {
      "cell_type": "markdown",
      "metadata": {
        "id": "view-in-github",
        "colab_type": "text"
      },
      "source": [
        "<a href=\"https://colab.research.google.com/github/EminImura/OOP-58001/blob/main/List%2C_Tuples%2C_and_Dictionaries.ipynb\" target=\"_parent\"><img src=\"https://colab.research.google.com/assets/colab-badge.svg\" alt=\"Open In Colab\"/></a>"
      ]
    },
    {
      "cell_type": "markdown",
      "source": [],
      "metadata": {
        "id": "y_z1Y25UI_SL"
      }
    },
    {
      "cell_type": "markdown",
      "source": [
        "Functions"
      ],
      "metadata": {
        "id": "CHGO75j-KxEb"
      }
    },
    {
      "cell_type": "code",
      "execution_count": 7,
      "metadata": {
        "colab": {
          "base_uri": "https://localhost:8080/"
        },
        "id": "NUiyQNteI6oP",
        "outputId": "0b15fcde-0ae9-4825-9ef8-26c3d3cabcd7"
      },
      "outputs": [
        {
          "output_type": "execute_result",
          "data": {
            "text/plain": [
              "50"
            ]
          },
          "metadata": {},
          "execution_count": 7
        }
      ],
      "source": [
        "class persons:\n",
        "  def __init__(self, length, width):\n",
        "    self.length = length\n",
        "    self.width = width\n",
        "\n",
        "  def area(self):\n",
        "    return self.length * self.width\n",
        "rectangle = persons(10,5)\n",
        "rectangle.area()"
      ]
    },
    {
      "cell_type": "code",
      "source": [
        "#Full name and age\n",
        "\n",
        "class person:\n",
        "  def __init__(self, fname, age):\n",
        "    self.fname = fname\n",
        "    self.age = age\n",
        "\n",
        "  def show(self):\n",
        "    return self.fname + self.age\n",
        "\n",
        "info = person(\"Emin D. Imura \", \"19 years old\")\n",
        "info.show()"
      ],
      "metadata": {
        "colab": {
          "base_uri": "https://localhost:8080/",
          "height": 35
        },
        "id": "R9BllWejN-br",
        "outputId": "c7468b06-50f8-4520-a339-f8eaf16520aa"
      },
      "execution_count": 20,
      "outputs": [
        {
          "output_type": "execute_result",
          "data": {
            "text/plain": [
              "'Emin D. Imura 19 years old'"
            ],
            "application/vnd.google.colaboratory.intrinsic+json": {
              "type": "string"
            }
          },
          "metadata": {},
          "execution_count": 20
        }
      ]
    },
    {
      "cell_type": "markdown",
      "source": [
        "List"
      ],
      "metadata": {
        "id": "mM7eR0EIT2ab"
      }
    },
    {
      "cell_type": "code",
      "source": [
        "pi = 3.14159\n",
        "listahan = ['abc', 1, 'def', 2]\n",
        "print(listahan[0])\n",
        "\n",
        "listahan.append('ghi')\n",
        "print(listahan)\n",
        "\n",
        "listahan.remove(listahan[2])\n",
        "print(listahan)\n",
        "\n",
        "listahan.insert(3, 3)\n",
        "print(listahan)"
      ],
      "metadata": {
        "colab": {
          "base_uri": "https://localhost:8080/"
        },
        "id": "O22S_0i7T2pz",
        "outputId": "44c1cd33-f6fe-4c19-a931-c46f45f25eec"
      },
      "execution_count": 29,
      "outputs": [
        {
          "output_type": "stream",
          "name": "stdout",
          "text": [
            "abc\n",
            "['abc', 1, 'def', 2, 'ghi']\n",
            "['abc', 1, 2, 'ghi']\n",
            "['abc', 1, 2, 3, 'ghi']\n"
          ]
        }
      ]
    },
    {
      "cell_type": "markdown",
      "source": [
        "Dictionaries"
      ],
      "metadata": {
        "id": "_KWJqPLEWFig"
      }
    },
    {
      "cell_type": "code",
      "source": [
        "students = {\n",
        "    1: \"ana\",\n",
        "    2: \"billy\",\n",
        "    3: \"maria\",\n",
        "    4: \"joy\",\n",
        "    3: \"bessy\"\n",
        "}\n",
        "print(students)\n",
        "print(students[3])"
      ],
      "metadata": {
        "colab": {
          "base_uri": "https://localhost:8080/"
        },
        "id": "VLMGdDiMWHXL",
        "outputId": "3ab06430-a47e-46cf-85ce-7bcd25b22c9d"
      },
      "execution_count": 40,
      "outputs": [
        {
          "output_type": "stream",
          "name": "stdout",
          "text": [
            "{1: 'ana', 2: 'billy', 3: 'bessy', 4: 'joy'}\n",
            "bessy\n"
          ]
        }
      ]
    }
  ]
}