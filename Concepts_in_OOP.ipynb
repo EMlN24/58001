{
  "nbformat": 4,
  "nbformat_minor": 0,
  "metadata": {
    "colab": {
      "provenance": [],
      "authorship_tag": "ABX9TyPeLnwCvvarSNFwcF594gml",
      "include_colab_link": true
    },
    "kernelspec": {
      "name": "python3",
      "display_name": "Python 3"
    },
    "language_info": {
      "name": "python"
    }
  },
  "cells": [
    {
      "cell_type": "markdown",
      "metadata": {
        "id": "view-in-github",
        "colab_type": "text"
      },
      "source": [
        "<a href=\"https://colab.research.google.com/github/EminImura/OOP-58001/blob/main/Concepts_in_OOP.ipynb\" target=\"_parent\"><img src=\"https://colab.research.google.com/assets/colab-badge.svg\" alt=\"Open In Colab\"/></a>"
      ]
    },
    {
      "cell_type": "code",
      "execution_count": 1,
      "metadata": {
        "id": "UEKRXqWGPQuq"
      },
      "outputs": [],
      "source": [
        "#Class Constructor\n",
        "\n",
        "class Car:\n",
        "  pass"
      ]
    },
    {
      "cell_type": "code",
      "source": [
        "#Create a class\n",
        "\n",
        "class MyNumber:\n",
        "  x = 5\n",
        "\n",
        "num1 = MyNumber()\n",
        "print(num1.x)"
      ],
      "metadata": {
        "colab": {
          "base_uri": "https://localhost:8080/"
        },
        "id": "0GudHsfyPjNK",
        "outputId": "c2c9e166-59f5-490b-9607-5a066207adde"
      },
      "execution_count": 3,
      "outputs": [
        {
          "output_type": "stream",
          "name": "stdout",
          "text": [
            "5\n"
          ]
        }
      ]
    },
    {
      "cell_type": "code",
      "source": [
        "class Person:\n",
        "  def __init__(self, name, age):\n",
        "    self.name = name\n",
        "    self.age = age\n",
        "  def myFunction(self):\n",
        "    print(\"Hello, my name is\", self.name)\n",
        "\n",
        "person = Person(\"Ana\", 36)\n",
        "print(person.age)\n",
        "\n",
        "person.myFunction()"
      ],
      "metadata": {
        "colab": {
          "base_uri": "https://localhost:8080/"
        },
        "id": "24N33aM6P9S3",
        "outputId": "1bfd4594-c998-4ddd-8655-a41126892105"
      },
      "execution_count": 21,
      "outputs": [
        {
          "output_type": "stream",
          "name": "stdout",
          "text": [
            "36\n",
            "Hello, my name is Ana\n"
          ]
        }
      ]
    },
    {
      "cell_type": "code",
      "source": [
        "#Modify the Object Properties\n",
        "\n",
        "person."
      ],
      "metadata": {
        "id": "RjreeijoRlGl"
      },
      "execution_count": null,
      "outputs": []
    },
    {
      "cell_type": "code",
      "source": [
        "#Deletion of Object Properties\n",
        "\n",
        "del person.age\n",
        "person.myFunction()\n",
        "print(person.name)"
      ],
      "metadata": {
        "colab": {
          "base_uri": "https://localhost:8080/",
          "height": 217
        },
        "id": "L-IrW7JLSUNd",
        "outputId": "17b9313e-a98b-444c-d746-44506126c65c"
      },
      "execution_count": 9,
      "outputs": [
        {
          "output_type": "stream",
          "name": "stdout",
          "text": [
            "Hello, my name is Ana\n"
          ]
        },
        {
          "output_type": "error",
          "ename": "NameError",
          "evalue": "ignored",
          "traceback": [
            "\u001b[0;31m---------------------------------------------------------------------------\u001b[0m",
            "\u001b[0;31mNameError\u001b[0m                                 Traceback (most recent call last)",
            "\u001b[0;32m<ipython-input-9-e8578a28a686>\u001b[0m in \u001b[0;36m<module>\u001b[0;34m\u001b[0m\n\u001b[1;32m      3\u001b[0m \u001b[0;32mdel\u001b[0m \u001b[0mperson\u001b[0m\u001b[0;34m.\u001b[0m\u001b[0mage\u001b[0m\u001b[0;34m\u001b[0m\u001b[0;34m\u001b[0m\u001b[0m\n\u001b[1;32m      4\u001b[0m \u001b[0mperson\u001b[0m\u001b[0;34m.\u001b[0m\u001b[0mmyFunction\u001b[0m\u001b[0;34m(\u001b[0m\u001b[0;34m)\u001b[0m\u001b[0;34m\u001b[0m\u001b[0;34m\u001b[0m\u001b[0m\n\u001b[0;32m----> 5\u001b[0;31m \u001b[0mprint\u001b[0m\u001b[0;34m(\u001b[0m\u001b[0mperson\u001b[0m\u001b[0;34m,\u001b[0m\u001b[0mname\u001b[0m\u001b[0;34m)\u001b[0m\u001b[0;34m\u001b[0m\u001b[0;34m\u001b[0m\u001b[0m\n\u001b[0m",
            "\u001b[0;31mNameError\u001b[0m: name 'name' is not defined"
          ]
        }
      ]
    },
    {
      "cell_type": "code",
      "source": [
        "# Compute for the area of Square\n",
        "\n",
        "class Shapes:\n",
        "  def __init__(self, side):\n",
        "    self.side = side\n",
        "\n",
        "  def area(self):\n",
        "    return self.side * self.side\n",
        "\n",
        "  def display(self):\n",
        "    print(\"the area of the square is\", self.area())\n",
        "\n",
        "square = Shapes(4)\n",
        "square.display()"
      ],
      "metadata": {
        "colab": {
          "base_uri": "https://localhost:8080/"
        },
        "id": "mIrB-v4uTZwI",
        "outputId": "5f355966-d5bf-4021-d11a-5bc56f6996f2"
      },
      "execution_count": 18,
      "outputs": [
        {
          "output_type": "stream",
          "name": "stdout",
          "text": [
            "the area of the square is 16\n"
          ]
        }
      ]
    },
    {
      "cell_type": "code",
      "source": [
        "#Create a Python program with the following\n",
        "# Student as class name\n",
        "# Fullname, Student Number, and School as  attribute name\n",
        "# Construct a method to display the values of attributes\n",
        "# Use student as object name"
      ],
      "metadata": {
        "id": "gIVunVrAVAQx"
      },
      "execution_count": null,
      "outputs": []
    },
    {
      "cell_type": "code",
      "source": [
        "class info:\n",
        "  def __init__(self, fname, stnum, school):\n",
        "    self.fname = fname\n",
        "    self.stnum = stnum\n",
        "    self.school = school\n",
        "  \n",
        "  def display_fname(self):\n",
        "    print(\"Hello, my name is\", self.fname)\n",
        "\n",
        "  def display_stnum(self):\n",
        "    print(\"My student number is\", self.stnum)\n",
        "\n",
        "  def display_school(self):\n",
        "    print(\"I study at\", self.school)\n",
        "  \n",
        "information = info(\"Emin D. Imura\", 202213636, \"Adamson University\")\n",
        "information.display_fname()\n",
        "information.display_stnum()\n",
        "information.display_school()"
      ],
      "metadata": {
        "colab": {
          "base_uri": "https://localhost:8080/"
        },
        "id": "UYehM-VWVaIC",
        "outputId": "63ac5fea-044c-4788-da65-f5c862abf904"
      },
      "execution_count": 33,
      "outputs": [
        {
          "output_type": "stream",
          "name": "stdout",
          "text": [
            "Hello, my name is Emin D. Imura\n",
            "My student number is 202213636\n",
            "I study at Adamson University\n"
          ]
        }
      ]
    }
  ]
}