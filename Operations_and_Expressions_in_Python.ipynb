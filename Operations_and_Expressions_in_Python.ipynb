{
  "nbformat": 4,
  "nbformat_minor": 0,
  "metadata": {
    "colab": {
      "provenance": [],
      "authorship_tag": "ABX9TyNhFBouGWJbTwmySCyNqX9F",
      "include_colab_link": true
    },
    "kernelspec": {
      "name": "python3",
      "display_name": "Python 3"
    },
    "language_info": {
      "name": "python"
    }
  },
  "cells": [
    {
      "cell_type": "markdown",
      "metadata": {
        "id": "view-in-github",
        "colab_type": "text"
      },
      "source": [
        "<a href=\"https://colab.research.google.com/github/EminImura/OOP-58001/blob/main/Operations_and_Expressions_in_Python.ipynb\" target=\"_parent\"><img src=\"https://colab.research.google.com/assets/colab-badge.svg\" alt=\"Open In Colab\"/></a>"
      ]
    },
    {
      "cell_type": "markdown",
      "source": [
        "Boolean Operators"
      ],
      "metadata": {
        "id": "BcK5Uto5Sz0V"
      }
    },
    {
      "cell_type": "code",
      "execution_count": 3,
      "metadata": {
        "colab": {
          "base_uri": "https://localhost:8080/"
        },
        "id": "ZSUYxrsvSHO_",
        "outputId": "7dfe1744-7d67-4c07-bb26-9bd5008c7dc0"
      },
      "outputs": [
        {
          "output_type": "stream",
          "name": "stdout",
          "text": [
            "True\n",
            "False\n",
            "False\n"
          ]
        }
      ],
      "source": [
        "print(10 > 9)\n",
        "print(10 == 9)\n",
        "print(10 < 9)"
      ]
    },
    {
      "cell_type": "markdown",
      "source": [
        "Bool() Function"
      ],
      "metadata": {
        "id": "ZFIsy-czUiU7"
      }
    },
    {
      "cell_type": "code",
      "source": [
        "print(bool(\"Emin\"))\n",
        "print(bool(69))\n",
        "print(bool(0))\n",
        "print(bool(None))\n",
        "print(bool())\n",
        "print(bool(True))"
      ],
      "metadata": {
        "colab": {
          "base_uri": "https://localhost:8080/"
        },
        "id": "VovJOvDtT1kD",
        "outputId": "5015e172-d217-4326-ab09-5fea5b3ac854"
      },
      "execution_count": 18,
      "outputs": [
        {
          "output_type": "stream",
          "name": "stdout",
          "text": [
            "True\n",
            "True\n",
            "False\n",
            "False\n",
            "False\n",
            "True\n"
          ]
        }
      ]
    },
    {
      "cell_type": "markdown",
      "source": [
        "Function can Return a Boolean"
      ],
      "metadata": {
        "id": "KgstLd1gVO9D"
      }
    },
    {
      "cell_type": "code",
      "source": [
        "def Emin():\n",
        "  return False\n",
        "\n",
        "print(Emin())"
      ],
      "metadata": {
        "colab": {
          "base_uri": "https://localhost:8080/"
        },
        "id": "h8VzmZudVPGK",
        "outputId": "985140d9-8a81-48ec-855f-e73ad5e15cfd"
      },
      "execution_count": 33,
      "outputs": [
        {
          "output_type": "stream",
          "name": "stdout",
          "text": [
            "True\n"
          ]
        }
      ]
    },
    {
      "cell_type": "code",
      "source": [
        "def Emin():\n",
        "  return True\n",
        "\n",
        "if Emin():\n",
        "  print(\"Okay\")\n",
        "\n",
        "else:\n",
        "  print(\"Not Okay\")"
      ],
      "metadata": {
        "colab": {
          "base_uri": "https://localhost:8080/"
        },
        "id": "1UUs5fPKWnwh",
        "outputId": "7378a7bc-67cd-4a6f-ec17-a6016a3ad9f7"
      },
      "execution_count": 38,
      "outputs": [
        {
          "output_type": "stream",
          "name": "stdout",
          "text": [
            "Not Okay\n"
          ]
        }
      ]
    },
    {
      "cell_type": "markdown",
      "source": [
        "Application"
      ],
      "metadata": {
        "id": "IrZralHOXSkh"
      }
    },
    {
      "cell_type": "code",
      "source": [
        "print(10 > 9)\n",
        "\n",
        "a = 6\n",
        "b = 7\n",
        "\n",
        "print(a == b)\n",
        "print(a != a)"
      ],
      "metadata": {
        "colab": {
          "base_uri": "https://localhost:8080/"
        },
        "id": "waY7TixmXS0B",
        "outputId": "3d225d84-2eee-4e1e-eba8-9821a32b3457"
      },
      "execution_count": 39,
      "outputs": [
        {
          "output_type": "stream",
          "name": "stdout",
          "text": [
            "True\n",
            "False\n",
            "False\n"
          ]
        }
      ]
    },
    {
      "cell_type": "markdown",
      "source": [
        "Python Operators"
      ],
      "metadata": {
        "id": "aJIH4RL-XowA"
      }
    },
    {
      "cell_type": "code",
      "source": [
        "print(10 + 5)\n",
        "print(10 - 5)\n",
        "print(10 * 5)\n",
        "print(10 / 5)\n",
        "print(10 % 5)\n",
        "print(10 // 3)\n",
        "print(10 ** 2)\n"
      ],
      "metadata": {
        "colab": {
          "base_uri": "https://localhost:8080/"
        },
        "id": "-p6TOny-Xoap",
        "outputId": "e94482dd-0743-48d5-f2a7-1503aaf2b4ce"
      },
      "execution_count": 49,
      "outputs": [
        {
          "output_type": "stream",
          "name": "stdout",
          "text": [
            "15\n",
            "5\n",
            "50\n",
            "2.0\n",
            "0\n",
            "3\n",
            "100\n"
          ]
        }
      ]
    },
    {
      "cell_type": "markdown",
      "source": [
        "Python Bitwise operators"
      ],
      "metadata": {
        "id": "iqUPL52yZqxv"
      }
    },
    {
      "cell_type": "code",
      "source": [
        "a = 60\n",
        "b = 13\n",
        "\n",
        "a >> 1"
      ],
      "metadata": {
        "colab": {
          "base_uri": "https://localhost:8080/"
        },
        "id": "-hQf3oyuZrFH",
        "outputId": "f4fcab87-9feb-4832-dfda-7155fe40ddf6"
      },
      "execution_count": 85,
      "outputs": [
        {
          "output_type": "execute_result",
          "data": {
            "text/plain": [
              "30"
            ]
          },
          "metadata": {},
          "execution_count": 85
        }
      ]
    },
    {
      "cell_type": "markdown",
      "source": [
        "Python Assignment Operators"
      ],
      "metadata": {
        "id": "xOYrF65Vg9h8"
      }
    },
    {
      "cell_type": "code",
      "source": [
        "x = 5\n",
        "\n",
        "x += 3\n",
        "x -= 3\n",
        "x *= 3\n",
        "x /= 3\n",
        "x %= 3\n",
        "\n",
        "x"
      ],
      "metadata": {
        "colab": {
          "base_uri": "https://localhost:8080/"
        },
        "id": "RsTmJvYBg_jU",
        "outputId": "aafdd945-abee-4aab-bf1f-052f73ec088f"
      },
      "execution_count": 103,
      "outputs": [
        {
          "output_type": "execute_result",
          "data": {
            "text/plain": [
              "2.0"
            ]
          },
          "metadata": {},
          "execution_count": 103
        }
      ]
    },
    {
      "cell_type": "markdown",
      "source": [
        "Logical Operators"
      ],
      "metadata": {
        "id": "OlGEU4MBjHWa"
      }
    },
    {
      "cell_type": "code",
      "source": [
        "#and or xor not\n",
        "\n",
        "a = True\n",
        "b = False\n",
        "\n",
        "print(not a)\n",
        "print(a and b)"
      ],
      "metadata": {
        "colab": {
          "base_uri": "https://localhost:8080/"
        },
        "id": "t51-ClhHjHyK",
        "outputId": "1d1e2f21-5d2e-452e-8f1d-9e0c6abcde26"
      },
      "execution_count": 102,
      "outputs": [
        {
          "output_type": "stream",
          "name": "stdout",
          "text": [
            "False\n",
            "False\n"
          ]
        }
      ]
    },
    {
      "cell_type": "markdown",
      "source": [
        "Identity Operators"
      ],
      "metadata": {
        "id": "nny2i51-j8px"
      }
    },
    {
      "cell_type": "code",
      "source": [
        "a = True\n",
        "b = False\n",
        "\n",
        "print(a is a)\n",
        "print(a is b)"
      ],
      "metadata": {
        "colab": {
          "base_uri": "https://localhost:8080/"
        },
        "id": "XcCcDBKOj_ny",
        "outputId": "3652c984-1846-4f98-9582-c5b93fb1ccfb"
      },
      "execution_count": 111,
      "outputs": [
        {
          "output_type": "stream",
          "name": "stdout",
          "text": [
            "True\n",
            "False\n"
          ]
        }
      ]
    }
  ]
}