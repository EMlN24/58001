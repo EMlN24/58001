{
  "nbformat": 4,
  "nbformat_minor": 0,
  "metadata": {
    "colab": {
      "provenance": [],
      "include_colab_link": true
    },
    "kernelspec": {
      "name": "python3",
      "display_name": "Python 3"
    },
    "language_info": {
      "name": "python"
    }
  },
  "cells": [
    {
      "cell_type": "markdown",
      "metadata": {
        "id": "view-in-github",
        "colab_type": "text"
      },
      "source": [
        "<a href=\"https://colab.research.google.com/github/EminImura/OOP-58001/blob/main/Fundamentals_of_Python.ipynb\" target=\"_parent\"><img src=\"https://colab.research.google.com/assets/colab-badge.svg\" alt=\"Open In Colab\"/></a>"
      ]
    },
    {
      "cell_type": "markdown",
      "source": [
        "Indentation"
      ],
      "metadata": {
        "id": "73NzRpOVRW20"
      }
    },
    {
      "cell_type": "code",
      "execution_count": null,
      "metadata": {
        "colab": {
          "base_uri": "https://localhost:8080/"
        },
        "id": "1eEet5FIPlVo",
        "outputId": "1866e67f-f32e-41ca-dcc9-ce9dcfc7a2a9"
      },
      "outputs": [
        {
          "output_type": "stream",
          "name": "stdout",
          "text": [
            "5 is greater than 2\n"
          ]
        }
      ],
      "source": [
        "if 5 > 2:\n",
        "  print(\"5 is greater than 2\")"
      ]
    },
    {
      "cell_type": "markdown",
      "source": [
        "Python Comment"
      ],
      "metadata": {
        "id": "Dz4U0os2SXGK"
      }
    },
    {
      "cell_type": "code",
      "source": [
        "#This is a comment\n",
        "print(\"Hello, World\")"
      ],
      "metadata": {
        "colab": {
          "base_uri": "https://localhost:8080/"
        },
        "id": "Hkanru7ZSUYK",
        "outputId": "979c49af-a291-4c9a-f389-43e5962fb07f"
      },
      "execution_count": null,
      "outputs": [
        {
          "output_type": "stream",
          "name": "stdout",
          "text": [
            "Hello, World\n"
          ]
        }
      ]
    },
    {
      "cell_type": "markdown",
      "source": [
        "Python Variable"
      ],
      "metadata": {
        "id": "29nI5HLQTNTK"
      }
    },
    {
      "cell_type": "code",
      "source": [
        "x = 1\n",
        "\n",
        "#Single variable with multiply values\n",
        "array = [1,2,3]\n",
        "\n",
        "print(array)\n",
        "\n",
        "#multiple variables with single value\n",
        "a= b= c= \"Emin\"\n",
        "\n",
        "print(a,b)\n",
        "print(b)\n",
        "print(c)"
      ],
      "metadata": {
        "colab": {
          "base_uri": "https://localhost:8080/"
        },
        "id": "VHSbVj_2TOZi",
        "outputId": "814a80de-8490-4ad6-955a-fd0b31ff552d"
      },
      "execution_count": null,
      "outputs": [
        {
          "output_type": "stream",
          "name": "stdout",
          "text": [
            "[1, 2, 3]\n",
            "Emin Emin\n",
            "Emin\n",
            "Emin\n"
          ]
        }
      ]
    },
    {
      "cell_type": "markdown",
      "source": [
        "Casting"
      ],
      "metadata": {
        "id": "jOsNJmTGU1WB"
      }
    },
    {
      "cell_type": "code",
      "source": [
        "n = int(4)\n",
        "print(n)"
      ],
      "metadata": {
        "colab": {
          "base_uri": "https://localhost:8080/"
        },
        "id": "IYzrgd_VU1r6",
        "outputId": "c62f3e9c-33dd-4079-a811-800bef5e4192"
      },
      "execution_count": null,
      "outputs": [
        {
          "output_type": "stream",
          "name": "stdout",
          "text": [
            "4\n"
          ]
        }
      ]
    },
    {
      "cell_type": "markdown",
      "source": [
        "Type() function"
      ],
      "metadata": {
        "id": "bB3zLfnGVDnB"
      }
    },
    {
      "cell_type": "code",
      "source": [
        "c = \"Emin\"\n",
        "d = 6.9\n",
        "\n",
        "print(type(c))\n",
        "print(type(d))"
      ],
      "metadata": {
        "colab": {
          "base_uri": "https://localhost:8080/"
        },
        "id": "XPl2WfeCVDwJ",
        "outputId": "cef48e23-9b07-477f-ad88-164f6d0a688a"
      },
      "execution_count": null,
      "outputs": [
        {
          "output_type": "stream",
          "name": "stdout",
          "text": [
            "<class 'str'>\n",
            "<class 'float'>\n"
          ]
        }
      ]
    },
    {
      "cell_type": "markdown",
      "source": [
        "\"Double quotes\" or 'Single quotes'"
      ],
      "metadata": {
        "id": "ILSokyjg2JLe"
      }
    },
    {
      "cell_type": "code",
      "source": [
        "y = \"John\"\n",
        "y = 'John'\n",
        "\n",
        "print(y)"
      ],
      "metadata": {
        "id": "vegr2RDc2JXS",
        "outputId": "a1340a23-ed00-4d9e-d5a1-fe9911be2900",
        "colab": {
          "base_uri": "https://localhost:8080/"
        }
      },
      "execution_count": 5,
      "outputs": [
        {
          "output_type": "stream",
          "name": "stdout",
          "text": [
            "John\n"
          ]
        }
      ]
    },
    {
      "cell_type": "markdown",
      "source": [
        "Case Sensitive"
      ],
      "metadata": {
        "id": "kMzpExp_28PI"
      }
    },
    {
      "cell_type": "code",
      "source": [
        "a = 4\n",
        "A = \"Sally\"\n",
        "\n",
        "#A will not overwrite a\n",
        "print(a)\n",
        "print(A)"
      ],
      "metadata": {
        "id": "R5f1Xc9q28ef",
        "outputId": "1969dae4-4c3e-4372-e615-1b5d7591d360",
        "colab": {
          "base_uri": "https://localhost:8080/"
        }
      },
      "execution_count": 6,
      "outputs": [
        {
          "output_type": "stream",
          "name": "stdout",
          "text": [
            "4\n",
            "Sally\n"
          ]
        }
      ]
    },
    {
      "cell_type": "markdown",
      "source": [
        "Multiply Variables"
      ],
      "metadata": {
        "id": "y9WWGit13PZ5"
      }
    },
    {
      "cell_type": "code",
      "source": [
        "x, y, z = \"one\", \"two\", \"three\"\n",
        "print(x)\n",
        "print(y)\n",
        "print(z)"
      ],
      "metadata": {
        "id": "MXX07ktS3Pui",
        "outputId": "b7923266-19d2-42d4-992c-68c14128be79",
        "colab": {
          "base_uri": "https://localhost:8080/"
        }
      },
      "execution_count": 7,
      "outputs": [
        {
          "output_type": "stream",
          "name": "stdout",
          "text": [
            "one\n",
            "two\n",
            "three\n"
          ]
        }
      ]
    },
    {
      "cell_type": "markdown",
      "source": [
        "Output Variables"
      ],
      "metadata": {
        "id": "8b07-nCh3ZRT"
      }
    },
    {
      "cell_type": "code",
      "source": [
        "x = \"enjoying.\"\n",
        "print(\"Python programming is \" + x)\n",
        "\n",
        "a = \"Python is \"\n",
        "b = \"enjoying.\"\n",
        "c = a + b\n",
        "print(c)"
      ],
      "metadata": {
        "id": "NbWO_EAo3ZX_",
        "outputId": "ebce98b0-f116-4bd7-8acd-50b7f7edc2a7",
        "colab": {
          "base_uri": "https://localhost:8080/"
        }
      },
      "execution_count": 14,
      "outputs": [
        {
          "output_type": "stream",
          "name": "stdout",
          "text": [
            "Python programming is enjoying.\n",
            "Python is enjoying.\n"
          ]
        }
      ]
    },
    {
      "cell_type": "markdown",
      "source": [
        "Arithmethic Operations"
      ],
      "metadata": {
        "id": "NOlKwYYF3pnB"
      }
    },
    {
      "cell_type": "code",
      "source": [
        "x = 5\n",
        "y = 3\n",
        "print(x + y)\n",
        "\n",
        "\n",
        "x = 5\n",
        "y = 3\n",
        "sum = x + y\n",
        "sum"
      ],
      "metadata": {
        "id": "eUWBTbT33p2_",
        "outputId": "7c7fe8e0-c8c1-4565-b7f2-d3a8130dde1d",
        "colab": {
          "base_uri": "https://localhost:8080/"
        }
      },
      "execution_count": 18,
      "outputs": [
        {
          "output_type": "stream",
          "name": "stdout",
          "text": [
            "8\n"
          ]
        },
        {
          "output_type": "execute_result",
          "data": {
            "text/plain": [
              "8"
            ]
          },
          "metadata": {},
          "execution_count": 18
        }
      ]
    },
    {
      "cell_type": "markdown",
      "source": [
        "Assignment Operators"
      ],
      "metadata": {
        "id": "Lc2Uset_4OB9"
      }
    },
    {
      "cell_type": "code",
      "source": [
        "a, b, c = 0, -1, 6\n",
        "c %= 3\n",
        "c"
      ],
      "metadata": {
        "id": "nZDFHUVA4OQY",
        "outputId": "0fe7df49-7438-4238-e8a5-e4d29b420990",
        "colab": {
          "base_uri": "https://localhost:8080/"
        }
      },
      "execution_count": 21,
      "outputs": [
        {
          "output_type": "execute_result",
          "data": {
            "text/plain": [
              "0"
            ]
          },
          "metadata": {},
          "execution_count": 21
        }
      ]
    },
    {
      "cell_type": "markdown",
      "source": [
        "Comparison Operators and Logical Operators\n"
      ],
      "metadata": {
        "id": "-97Z3x0-4bSY"
      }
    },
    {
      "cell_type": "code",
      "source": [
        "a, b, c = 0, -1, 6\n",
        "a > b and c > b\n",
        "True"
      ],
      "metadata": {
        "id": "QLs4dMQv4bjc",
        "outputId": "86119599-a16a-487b-8cc5-bfe672630f12",
        "colab": {
          "base_uri": "https://localhost:8080/"
        }
      },
      "execution_count": 22,
      "outputs": [
        {
          "output_type": "execute_result",
          "data": {
            "text/plain": [
              "True"
            ]
          },
          "metadata": {},
          "execution_count": 22
        }
      ]
    },
    {
      "cell_type": "markdown",
      "source": [
        "Identity Operators"
      ],
      "metadata": {
        "id": "lbHFDvfc4-WI"
      }
    },
    {
      "cell_type": "code",
      "source": [
        "a, b, c = 0, -1 ,5\n",
        "a is c"
      ],
      "metadata": {
        "id": "vwj6Lw324-nA",
        "outputId": "715494a4-233a-45bf-db3f-e018e883e9c4",
        "colab": {
          "base_uri": "https://localhost:8080/"
        }
      },
      "execution_count": 23,
      "outputs": [
        {
          "output_type": "execute_result",
          "data": {
            "text/plain": [
              "False"
            ]
          },
          "metadata": {},
          "execution_count": 23
        }
      ]
    },
    {
      "cell_type": "markdown",
      "source": [
        "Bitwise Operators"
      ],
      "metadata": {
        "id": "dkdf6k7R5E9L"
      }
    },
    {
      "cell_type": "code",
      "source": [
        "a, b, c = 0, -1 ,5\n",
        "a <= b | b != c"
      ],
      "metadata": {
        "id": "l_WdcY5i5FPC",
        "outputId": "9972c210-565e-4e68-f77c-013f6a8cb75b",
        "colab": {
          "base_uri": "https://localhost:8080/"
        }
      },
      "execution_count": 29,
      "outputs": [
        {
          "output_type": "execute_result",
          "data": {
            "text/plain": [
              "False"
            ]
          },
          "metadata": {},
          "execution_count": 29
        }
      ]
    }
  ]
}