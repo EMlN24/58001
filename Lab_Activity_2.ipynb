{
  "nbformat": 4,
  "nbformat_minor": 0,
  "metadata": {
    "colab": {
      "provenance": [],
      "authorship_tag": "ABX9TyO38D8SSF1c5woVfzcHJtQR",
      "include_colab_link": true
    },
    "kernelspec": {
      "name": "python3",
      "display_name": "Python 3"
    },
    "language_info": {
      "name": "python"
    }
  },
  "cells": [
    {
      "cell_type": "markdown",
      "metadata": {
        "id": "view-in-github",
        "colab_type": "text"
      },
      "source": [
        "<a href=\"https://colab.research.google.com/github/EminImura/OOP-58001/blob/main/Lab_Activity_2.ipynb\" target=\"_parent\"><img src=\"https://colab.research.google.com/assets/colab-badge.svg\" alt=\"Open In Colab\"/></a>"
      ]
    },
    {
      "cell_type": "code",
      "execution_count": 34,
      "metadata": {
        "id": "GhMMrmlNJqEq",
        "colab": {
          "base_uri": "https://localhost:8080/"
        },
        "outputId": "28653c67-b15b-44c3-8c9c-d3356fe615d8"
      },
      "outputs": [
        {
          "output_type": "stream",
          "name": "stdout",
          "text": [
            "Enter the radius of a circle: 3\n",
            "The area of the circle is 28.27433388231\n",
            "The circumference of the circle is 18.849555921540002\n"
          ]
        }
      ],
      "source": [
        "class shape:\n",
        "  def __init__(obj, rad, pi):\n",
        "    obj.rad = rad\n",
        "    obj.pi = pi\n",
        "  def area(obj):\n",
        "    return obj.pi * obj.rad ** 2\n",
        "  def perimeter(obj):\n",
        "    return 2 * obj.pi * obj.rad\n",
        "  def display(obj):\n",
        "    print(\"The area of the circle is\", obj.area())\n",
        "    print(\"The circumference of the circle is\", obj.perimeter())\n",
        "circle = shape(float(input(\"Enter the radius of a circle: \")), 3.14159265359)\n",
        "circle.display()"
      ]
    }
  ]
}